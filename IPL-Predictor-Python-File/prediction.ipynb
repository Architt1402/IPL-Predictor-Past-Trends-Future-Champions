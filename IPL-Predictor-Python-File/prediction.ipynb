{
 "cells": [
  {
   "cell_type": "code",
   "execution_count": 2,
   "id": "a3adb903-1c1e-4d79-a473-d48ec3ff0279",
   "metadata": {},
   "outputs": [
    {
     "name": "stdout",
     "output_type": "stream",
     "text": [
      "Current working directory: C:\\Users\\ASUS\n"
     ]
    }
   ],
   "source": [
    "import os\n",
    "print(\"Current working directory:\", os.getcwd())\n"
   ]
  },
  {
   "cell_type": "code",
   "execution_count": 3,
   "id": "31d8de64-98d5-40fa-bb72-4fa9ed9ddd20",
   "metadata": {},
   "outputs": [
    {
     "name": "stdout",
     "output_type": "stream",
     "text": [
      "🔮 Predicted Top Batsmen for IPL 2025:\n",
      "         batsmanName  avg_runs_per_innings  average_SR  batting_avg  \\\n",
      "402      Virat Kohli             49.400000  155.598667    61.750000   \n",
      "120  HeinrichKlaasen             40.727273  182.172727    49.777778   \n",
      "237  Nicholas Pooran             35.642857  160.368571    62.375000   \n",
      "305      Riyan Parag             40.928571  141.675000    52.090909   \n",
      "316    Sai Sudharsan             43.818182  133.755455    48.200000   \n",
      "358      ShubmanGill             41.606061  121.210606    47.344828   \n",
      "368  SuryakumarYadav             37.833333  149.895000    43.238095   \n",
      "325     Sanju Samson             36.642857  131.791429    51.300000   \n",
      "84       DevonConway             42.000000  111.330000    48.631579   \n",
      "317     SaiSudharsan             39.000000  131.600000    46.090909   \n",
      "\n",
      "     performance_score  \n",
      "402         111.394733  \n",
      "120         102.050707  \n",
      "237          98.904071  \n",
      "305          95.309026  \n",
      "316          94.669273  \n",
      "358          89.520596  \n",
      "368          89.431381  \n",
      "325          88.651143  \n",
      "84           88.581789  \n",
      "317          88.365455  \n"
     ]
    }
   ],
   "source": [
    "import pandas as pd\n",
    "\n",
    "\n",
    "df = pd.read_excel(\"C:/Users/ASUS/cleaned_ipl_data_batsman.xlsx\")\n",
    "\n",
    "# for use case for cleaning columns \n",
    "df.columns = df.columns.str.strip().str.replace(' ', '_')\n",
    "\n",
    "# Clean / format data\n",
    "df['batsmanName'] = df['batsmanName'].str.strip()\n",
    "df['SR'] = pd.to_numeric(df['SR'], errors='coerce')\n",
    "df['runs'] = pd.to_numeric(df['runs'], errors='coerce')\n",
    "\n",
    "# Drop rows that include some missing value \n",
    "df = df.dropna(subset=['batsmanName', 'runs', 'SR'])\n",
    "\n",
    "# ✅ Creating is out from out/nout \n",
    "if 'out/not_out' in df.columns:\n",
    "    df['is_out'] = df['out/not_out'].str.lower().map({'out': 1, 'not_out': 0, 'not out': 0})\n",
    "else:\n",
    "    raise KeyError(\"'out/not_out' column not found in the dataset\")\n",
    "\n",
    "# Fill missing values \n",
    "df['is_out'] = df['is_out'].fillna(1).astype(int)\n",
    "\n",
    "# Group by batsman and aggregate \n",
    "player_stats = df.groupby('batsmanName').agg(\n",
    "    total_runs=('runs', 'sum'),\n",
    "    innings=('match_id', 'count'),\n",
    "    average_SR=('SR', 'mean'),\n",
    "    dismissals=('is_out', 'sum')\n",
    ").reset_index()\n",
    "\n",
    "# for diving it by zero avoiding it \n",
    "player_stats['dismissals'] = player_stats['dismissals'].replace(0, 1)\n",
    "\n",
    "# averages\n",
    "player_stats['batting_avg'] = player_stats['total_runs'] / player_stats['dismissals']\n",
    "player_stats['avg_runs_per_innings'] = player_stats['total_runs'] / player_stats['innings']\n",
    "\n",
    "# performance score\n",
    "player_stats['performance_score'] = (\n",
    "    player_stats['avg_runs_per_innings'] +\n",
    "    (player_stats['average_SR'] / 5) +\n",
    "    (player_stats['batting_avg'] / 2)\n",
    ")\n",
    "\n",
    "# Filter by minimum number of innings played\n",
    "player_stats = player_stats[player_stats['innings'] >= 10]\n",
    "\n",
    "# Sort and get top 10\n",
    "predicted_top_5 = player_stats.sort_values(by='performance_score', ascending=False).head(10)\n",
    "\n",
    "# Show output\n",
    "print(\"🔮 Predicted Top Batsmen for IPL 2025:\")\n",
    "print(predicted_top_5[['batsmanName', 'avg_runs_per_innings', 'average_SR', 'batting_avg', 'performance_score']])\n"
   ]
  }
 ],
 "metadata": {
  "kernelspec": {
   "display_name": "Python 3 (ipykernel)",
   "language": "python",
   "name": "python3"
  },
  "language_info": {
   "codemirror_mode": {
    "name": "ipython",
    "version": 3
   },
   "file_extension": ".py",
   "mimetype": "text/x-python",
   "name": "python",
   "nbconvert_exporter": "python",
   "pygments_lexer": "ipython3",
   "version": "3.12.7"
  }
 },
 "nbformat": 4,
 "nbformat_minor": 5
}
